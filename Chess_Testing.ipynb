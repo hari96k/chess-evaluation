{
  "nbformat": 4,
  "nbformat_minor": 0,
  "metadata": {
    "colab": {
      "name": "Chess Testing",
      "version": "0.3.2",
      "provenance": [],
      "collapsed_sections": []
    },
    "kernelspec": {
      "name": "python3",
      "display_name": "Python 3"
    },
    "accelerator": "GPU"
  },
  "cells": [
    {
      "cell_type": "code",
      "metadata": {
        "id": "uJDpqALgR5C7",
        "colab_type": "code",
        "outputId": "f2549542-ee4b-4207-ee4e-8dee65de45ce",
        "colab": {
          "base_uri": "https://localhost:8080/",
          "height": 139
        }
      },
      "source": [
        "import numpy as np\n",
        "import tensorflow as tf\n",
        "import chess\n",
        "import pandas as pd\n",
        "import io\n",
        "\n",
        "from tensorflow.keras.models import Sequential, Model\n",
        "from tensorflow.keras.layers import Dense, Conv2D, Flatten, Input, Lambda\n",
        "from keras import backend as K\n",
        "from tensorflow import keras\n",
        "\n",
        "from google.colab import drive\n",
        "drive.mount('/content/drive')"
      ],
      "execution_count": 1,
      "outputs": [
        {
          "output_type": "stream",
          "text": [
            "Using TensorFlow backend.\n"
          ],
          "name": "stderr"
        },
        {
          "output_type": "stream",
          "text": [
            "Go to this URL in a browser: https://accounts.google.com/o/oauth2/auth?client_id=947318989803-6bn6qk8qdgf4n4g3pfee6491hc0brc4i.apps.googleusercontent.com&redirect_uri=urn%3Aietf%3Awg%3Aoauth%3A2.0%3Aoob&scope=email%20https%3A%2F%2Fwww.googleapis.com%2Fauth%2Fdocs.test%20https%3A%2F%2Fwww.googleapis.com%2Fauth%2Fdrive%20https%3A%2F%2Fwww.googleapis.com%2Fauth%2Fdrive.photos.readonly%20https%3A%2F%2Fwww.googleapis.com%2Fauth%2Fpeopleapi.readonly&response_type=code\n",
            "\n",
            "Enter your authorization code:\n",
            "··········\n",
            "Mounted at /content/drive\n"
          ],
          "name": "stdout"
        }
      ]
    },
    {
      "cell_type": "markdown",
      "metadata": {
        "id": "18xEksspmreA",
        "colab_type": "text"
      },
      "source": [
        "Helper Functions~~~"
      ]
    },
    {
      "cell_type": "code",
      "metadata": {
        "id": "wRhEQ_I3TXhk",
        "colab_type": "code",
        "colab": {}
      },
      "source": [
        "NUM_OUTPUTS = 5\n",
        "\n",
        "\n",
        "def get_mat(board, piece, color):\n",
        "  squareSet = board.pieces(piece, color)\n",
        "  return get_bin_mat(squareSet);\n",
        "\n",
        "def get_bin_mat(squareSet):\n",
        "  mat = np.zeros((8,8))\n",
        "  for x in range(0, 8):\n",
        "    for y in range(0, 8):\n",
        "        if(y*8 + x in squareSet):\n",
        "          # The 7 - is used to flip the board representation\n",
        "          mat[7 - y, x] = 1\n",
        "            \n",
        "  return mat\n",
        "\n",
        "\n",
        "def get_dual_bin_mat(piece):\n",
        "  whiteSquareSet = board.pieces(piece, chess.WHITE)\n",
        "  blackSquareSet = board.pieces(piece, chess.BLACK)\n",
        "  mat = np.zeros((8,8))\n",
        "  for x in range(0, 8):\n",
        "    for y in range(0, 8):\n",
        "        if(y*8 + x in whiteSquareSet):\n",
        "          # The 7 - is used to flip the board representation\n",
        "          mat[7 - y, x] = 1\n",
        "        elif(y*8 + x in blackSquareSet):\n",
        "          mat[7 - y, x] = -1\n",
        "            \n",
        "  return mat\n",
        "\n",
        "\n",
        "def interpret_pred(p):\n",
        "  \n",
        "  moves = []\n",
        "  for out in p:\n",
        "    # There's an extra list wrapping for some reason\n",
        "    out = out[0]\n",
        "    start = np.argmax(out[:64])\n",
        "    end = np.argmax(out[64:])\n",
        "       \n",
        "    moves.append((chess.SQUARE_NAMES[start],\n",
        "                  chess.SQUARE_NAMES[end]))\n",
        "    \n",
        "  return moves\n",
        "\n",
        "  \n",
        "\n",
        "def create_input(board):\n",
        "  if(board.turn):\n",
        "    turnMat = np.ones((8,8))\n",
        "  else:\n",
        "    turnMat = np.negative(np.ones((8,8)))\n",
        "  mat = np.array(([get_mat(board, i, chess.WHITE) for i in range(1,7)] + [get_mat(board, i, chess.BLACK) for i in range(1,7)] + [turnMat]))\n",
        "  y = mat.reshape((-1, 13, 8, 8))\n",
        "  return y\n",
        "\n",
        "def create_output(moves):\n",
        "  output = []\n",
        "  for i in range(0, NUM_OUTPUTS):\n",
        "    startPos = moves[i][0]\n",
        "    endPos = moves[i][1]\n",
        "    \n",
        "    mat = np.zeros(128)\n",
        "    \n",
        "    mat[startPos] = 1\n",
        "    mat[64 + endPos] = 1\n",
        "        \n",
        "    output.append(mat)\n",
        "  \n",
        "  return output\n",
        "\n",
        "def create_training_set(df):\n",
        "  inputs = []\n",
        "  outputs = []\n",
        "\n",
        "  for i in range(len(df)):\n",
        "    pos = df.iloc[i].Position\n",
        "    moves = eval(df.iloc[i].Moves)\n",
        "\n",
        "    board.set_fen(pos)\n",
        "    if i > 0:\n",
        "      inputs = np.append(inputs, create_input(board), axis=0)\n",
        "    else:\n",
        "      inputs = create_input(board)\n",
        "    #outputs.append(create_output(moves))\n",
        "    \n",
        "  for j in range(0, NUM_OUTPUTS):\n",
        "    output = []\n",
        "    for k in range(len(df)):\n",
        "      moves = eval(df.iloc[k].Moves)\n",
        "\n",
        "      startPos = moves[j][0]\n",
        "      endPos = moves[j][1]\n",
        "    \n",
        "      mat = np.zeros(128)\n",
        "\n",
        "      mat[startPos] = 1\n",
        "      mat[64 + endPos] = 1\n",
        "        \n",
        "      output.append(mat)\n",
        "    \n",
        "    outputs.append(output)\n",
        "\n",
        "  return (inputs, outputs)"
      ],
      "execution_count": 0,
      "outputs": []
    },
    {
      "cell_type": "code",
      "metadata": {
        "id": "ETcs9qacuGlD",
        "colab_type": "code",
        "outputId": "afeced70-f9d1-421d-baad-f940437bbf5d",
        "colab": {
          "base_uri": "https://localhost:8080/",
          "height": 34
        }
      },
      "source": [
        "np.zeros(128).shape"
      ],
      "execution_count": 3,
      "outputs": [
        {
          "output_type": "execute_result",
          "data": {
            "text/plain": [
              "(128,)"
            ]
          },
          "metadata": {
            "tags": []
          },
          "execution_count": 3
        }
      ]
    },
    {
      "cell_type": "markdown",
      "metadata": {
        "id": "uQ7P_PFH8WdK",
        "colab_type": "text"
      },
      "source": [
        "Input data:\n",
        "\n",
        "  (6 pieces) * 2 players + 1 for turn\n",
        "  \n",
        "  8 rows\n",
        "  \n",
        "  8 columns\n",
        "  \n",
        " => 8 * 8 * 13 = 832\n",
        " \n",
        " \n",
        " Output data:\n",
        " \n",
        " - Assume predicting five moves\n",
        " - initial location, and new location\n",
        " \n",
        " \n",
        "Array of objects/tuples\n",
        "[{initial location, new location},...]\n",
        " \n",
        " \n",
        " => 5 * 2 * 64 = 640\n",
        "  "
      ]
    },
    {
      "cell_type": "code",
      "metadata": {
        "id": "xh4Q_A627s3r",
        "colab_type": "code",
        "outputId": "42ec5b5f-c094-4530-83f8-8ccc084829a2",
        "colab": {
          "base_uri": "https://localhost:8080/",
          "height": 581
        }
      },
      "source": [
        "inp = Input((13,8,8))\n",
        "\n",
        "\n",
        "x = Conv2D(128, kernel_size=3, activation='relu', input_shape=(13,8,8))(inp)\n",
        "\n",
        "x = Conv2D(64, kernel_size=3, activation='relu', input_shape=(13,8,8))(x)\n",
        "\n",
        "x = Conv2D(32, kernel_size=3, activation='relu', input_shape=(13,8,8))(x)\n",
        "\n",
        "\n",
        "x = Flatten()(x)\n",
        "\n",
        "\n",
        "outputs = []\n",
        "\n",
        "for n in range(NUM_OUTPUTS):\n",
        "  outputs.append(Dense(128, activation='softmax')(x))\n",
        "\n",
        "model = Model(inp, outputs)\n",
        "model.compile(optimizer='adam', loss='categorical_crossentropy', metrics=['accuracy']) \n",
        "\n",
        "model.summary()"
      ],
      "execution_count": 4,
      "outputs": [
        {
          "output_type": "stream",
          "text": [
            "WARNING: Logging before flag parsing goes to stderr.\n",
            "W0807 00:16:14.320337 140527518738304 deprecation.py:506] From /usr/local/lib/python3.6/dist-packages/tensorflow/python/ops/init_ops.py:1251: calling VarianceScaling.__init__ (from tensorflow.python.ops.init_ops) with dtype is deprecated and will be removed in a future version.\n",
            "Instructions for updating:\n",
            "Call initializer instance with the dtype argument instead of passing it to the constructor\n"
          ],
          "name": "stderr"
        },
        {
          "output_type": "stream",
          "text": [
            "Model: \"model\"\n",
            "__________________________________________________________________________________________________\n",
            "Layer (type)                    Output Shape         Param #     Connected to                     \n",
            "==================================================================================================\n",
            "input_1 (InputLayer)            [(None, 13, 8, 8)]   0                                            \n",
            "__________________________________________________________________________________________________\n",
            "conv2d (Conv2D)                 (None, 11, 6, 128)   9344        input_1[0][0]                    \n",
            "__________________________________________________________________________________________________\n",
            "conv2d_1 (Conv2D)               (None, 9, 4, 64)     73792       conv2d[0][0]                     \n",
            "__________________________________________________________________________________________________\n",
            "conv2d_2 (Conv2D)               (None, 7, 2, 32)     18464       conv2d_1[0][0]                   \n",
            "__________________________________________________________________________________________________\n",
            "flatten (Flatten)               (None, 448)          0           conv2d_2[0][0]                   \n",
            "__________________________________________________________________________________________________\n",
            "dense (Dense)                   (None, 128)          57472       flatten[0][0]                    \n",
            "__________________________________________________________________________________________________\n",
            "dense_1 (Dense)                 (None, 128)          57472       flatten[0][0]                    \n",
            "__________________________________________________________________________________________________\n",
            "dense_2 (Dense)                 (None, 128)          57472       flatten[0][0]                    \n",
            "__________________________________________________________________________________________________\n",
            "dense_3 (Dense)                 (None, 128)          57472       flatten[0][0]                    \n",
            "__________________________________________________________________________________________________\n",
            "dense_4 (Dense)                 (None, 128)          57472       flatten[0][0]                    \n",
            "==================================================================================================\n",
            "Total params: 388,960\n",
            "Trainable params: 388,960\n",
            "Non-trainable params: 0\n",
            "__________________________________________________________________________________________________\n"
          ],
          "name": "stdout"
        }
      ]
    },
    {
      "cell_type": "code",
      "metadata": {
        "id": "Xyl3iUZBFybO",
        "colab_type": "code",
        "outputId": "3bb8377d-94d6-4751-bcf0-45bb1c37af19",
        "colab": {
          "base_uri": "https://localhost:8080/",
          "height": 34
        }
      },
      "source": [
        "board = chess.Board()\n",
        "\n",
        "y = create_input(board)\n",
        "\n",
        "p = model.predict(y)\n",
        "\n",
        "interpret_pred(p)"
      ],
      "execution_count": 5,
      "outputs": [
        {
          "output_type": "execute_result",
          "data": {
            "text/plain": [
              "[('a6', 'h1'), ('e1', 'g2'), ('f3', 'h2'), ('d5', 'f7'), ('c4', 'c2')]"
            ]
          },
          "metadata": {
            "tags": []
          },
          "execution_count": 5
        }
      ]
    },
    {
      "cell_type": "code",
      "metadata": {
        "id": "clSTqUeBdIEC",
        "colab_type": "code",
        "outputId": "968bd7ee-8e70-4d1f-a082-fed2c9bf54f6",
        "colab": {
          "base_uri": "https://localhost:8080/",
          "height": 204
        }
      },
      "source": [
        "df=pd.read_csv('drive/My Drive/Chess/train.csv')\n",
        "\n",
        "df.head()"
      ],
      "execution_count": 6,
      "outputs": [
        {
          "output_type": "execute_result",
          "data": {
            "text/html": [
              "<div>\n",
              "<style scoped>\n",
              "    .dataframe tbody tr th:only-of-type {\n",
              "        vertical-align: middle;\n",
              "    }\n",
              "\n",
              "    .dataframe tbody tr th {\n",
              "        vertical-align: top;\n",
              "    }\n",
              "\n",
              "    .dataframe thead th {\n",
              "        text-align: right;\n",
              "    }\n",
              "</style>\n",
              "<table border=\"1\" class=\"dataframe\">\n",
              "  <thead>\n",
              "    <tr style=\"text-align: right;\">\n",
              "      <th></th>\n",
              "      <th>Position</th>\n",
              "      <th>Moves</th>\n",
              "    </tr>\n",
              "  </thead>\n",
              "  <tbody>\n",
              "    <tr>\n",
              "      <th>0</th>\n",
              "      <td>rnbqkbnr/ppppppp1/7p/8/4P3/2N5/PPPP1PPP/R1BQKB...</td>\n",
              "      <td>[(62, 45), (52, 36), (49, 41), (51, 43), (50, ...</td>\n",
              "    </tr>\n",
              "    <tr>\n",
              "      <th>1</th>\n",
              "      <td>rnbqkbnr/pp1pppp1/7p/2p5/4P3/2N5/PPPP1PPP/R1BQ...</td>\n",
              "      <td>[(18, 1), (18, 33), (5, 33), (13, 29), (0, 1)]</td>\n",
              "    </tr>\n",
              "    <tr>\n",
              "      <th>2</th>\n",
              "      <td>rnbqkbnr/pp1pppp1/7p/2p5/4P3/8/PPPP1PPP/RNBQKB...</td>\n",
              "      <td>[(54, 38), (53, 45), (57, 42), (52, 36), (59, ...</td>\n",
              "    </tr>\n",
              "    <tr>\n",
              "      <th>3</th>\n",
              "      <td>rnbqkbnr/pp1ppp2/7p/2p3p1/4P3/8/PPPP1PPP/RNBQK...</td>\n",
              "      <td>[(6, 23), (10, 26), (3, 12), (10, 18), (28, 36)]</td>\n",
              "    </tr>\n",
              "    <tr>\n",
              "      <th>4</th>\n",
              "      <td>rnbqkbnr/pp1ppp2/7p/2p3p1/4P3/3B4/PPPP1PPP/RNB...</td>\n",
              "      <td>[(48, 32), (57, 42), (59, 32), (34, 26), (59, ...</td>\n",
              "    </tr>\n",
              "  </tbody>\n",
              "</table>\n",
              "</div>"
            ],
            "text/plain": [
              "                                            Position                                              Moves\n",
              "0  rnbqkbnr/ppppppp1/7p/8/4P3/2N5/PPPP1PPP/R1BQKB...  [(62, 45), (52, 36), (49, 41), (51, 43), (50, ...\n",
              "1  rnbqkbnr/pp1pppp1/7p/2p5/4P3/2N5/PPPP1PPP/R1BQ...     [(18, 1), (18, 33), (5, 33), (13, 29), (0, 1)]\n",
              "2  rnbqkbnr/pp1pppp1/7p/2p5/4P3/8/PPPP1PPP/RNBQKB...  [(54, 38), (53, 45), (57, 42), (52, 36), (59, ...\n",
              "3  rnbqkbnr/pp1ppp2/7p/2p3p1/4P3/8/PPPP1PPP/RNBQK...   [(6, 23), (10, 26), (3, 12), (10, 18), (28, 36)]\n",
              "4  rnbqkbnr/pp1ppp2/7p/2p3p1/4P3/3B4/PPPP1PPP/RNB...  [(48, 32), (57, 42), (59, 32), (34, 26), (59, ..."
            ]
          },
          "metadata": {
            "tags": []
          },
          "execution_count": 6
        }
      ]
    },
    {
      "cell_type": "code",
      "metadata": {
        "id": "fhuBIcsS5_At",
        "colab_type": "code",
        "outputId": "630f5ab1-b323-4ae2-c6c5-49ec01ab5c0f",
        "colab": {
          "base_uri": "https://localhost:8080/",
          "height": 1000
        }
      },
      "source": [
        "df = df[:10000] # Set an initial limit\n",
        "\n",
        "SPLIT_SIZE = 1000\n",
        "NUM_CHUNKS = len(df)/SPLIT_SIZE\n",
        "\n",
        "i = 1\n",
        "for chunk in np.array_split(df, NUM_CHUNKS):\n",
        "  inputs, outputs = create_training_set(chunk)\n",
        "  model.fit(inputs, outputs, epochs=5)\n",
        "  print('Model fit for ' + str(i * SPLIT_SIZE) + 'training samples.')\n",
        "  i = i + 1"
      ],
      "execution_count": 7,
      "outputs": [
        {
          "output_type": "stream",
          "text": [
            "Epoch 1/5\n",
            "1000/1000 [==============================] - 1s 556us/sample - loss: 48.6991 - dense_loss: 9.7539 - dense_1_loss: 9.7176 - dense_2_loss: 9.7575 - dense_3_loss: 9.7444 - dense_4_loss: 9.7343 - dense_acc: 0.0120 - dense_1_acc: 0.0080 - dense_2_acc: 0.0010 - dense_3_acc: 0.0100 - dense_4_acc: 0.0000e+00\n",
            "Epoch 2/5\n",
            "1000/1000 [==============================] - 0s 264us/sample - loss: 112.7897 - dense_loss: 23.3339 - dense_1_loss: 22.7503 - dense_2_loss: 24.3027 - dense_3_loss: 24.1800 - dense_4_loss: 23.1238 - dense_acc: 0.0090 - dense_1_acc: 0.0120 - dense_2_acc: 0.0240 - dense_3_acc: 0.0180 - dense_4_acc: 0.0220\n",
            "Epoch 3/5\n",
            "1000/1000 [==============================] - 0s 267us/sample - loss: 3490.7357 - dense_loss: 696.3323 - dense_1_loss: 741.9869 - dense_2_loss: 735.4409 - dense_3_loss: 734.2175 - dense_4_loss: 759.6875 - dense_acc: 0.0160 - dense_1_acc: 0.0100 - dense_2_acc: 0.0130 - dense_3_acc: 0.0170 - dense_4_acc: 0.0150\n",
            "Epoch 4/5\n",
            "1000/1000 [==============================] - 0s 249us/sample - loss: 37020.5869 - dense_loss: 7824.5933 - dense_1_loss: 7563.6724 - dense_2_loss: 7308.4761 - dense_3_loss: 7302.9585 - dense_4_loss: 7560.6870 - dense_acc: 0.0130 - dense_1_acc: 0.0050 - dense_2_acc: 0.0090 - dense_3_acc: 0.0060 - dense_4_acc: 0.0040\n",
            "Epoch 5/5\n",
            "1000/1000 [==============================] - 0s 260us/sample - loss: 176546.8370 - dense_loss: 36756.4961 - dense_1_loss: 36869.1289 - dense_2_loss: 34343.2578 - dense_3_loss: 39387.1953 - dense_4_loss: 33749.6680 - dense_acc: 0.0110 - dense_1_acc: 0.0070 - dense_2_acc: 0.0150 - dense_3_acc: 0.0130 - dense_4_acc: 0.0060\n",
            "Model fit for 1000training samples.\n",
            "Epoch 1/5\n",
            "1000/1000 [==============================] - 0s 261us/sample - loss: 437098.6305 - dense_loss: 86999.1250 - dense_1_loss: 86350.9766 - dense_2_loss: 98078.4375 - dense_3_loss: 87462.2031 - dense_4_loss: 85993.8047 - dense_acc: 0.0120 - dense_1_acc: 0.0110 - dense_2_acc: 0.0050 - dense_3_acc: 0.0090 - dense_4_acc: 0.0120\n",
            "Epoch 2/5\n",
            "1000/1000 [==============================] - 0s 259us/sample - loss: 922221.8410 - dense_loss: 182443.5469 - dense_1_loss: 173213.0625 - dense_2_loss: 204181.6250 - dense_3_loss: 188386.4688 - dense_4_loss: 183714.4375 - dense_acc: 0.0100 - dense_1_acc: 0.0060 - dense_2_acc: 0.0150 - dense_3_acc: 0.0120 - dense_4_acc: 0.0090\n",
            "Epoch 3/5\n",
            "1000/1000 [==============================] - 0s 256us/sample - loss: 1687483.5740 - dense_loss: 422231.4375 - dense_1_loss: 297746.3438 - dense_2_loss: 308309.9375 - dense_3_loss: 359842.4062 - dense_4_loss: 309549.1875 - dense_acc: 0.0200 - dense_1_acc: 0.0130 - dense_2_acc: 0.0110 - dense_3_acc: 0.0190 - dense_4_acc: 0.0110\n",
            "Epoch 4/5\n",
            "1000/1000 [==============================] - 0s 261us/sample - loss: 2542882.7160 - dense_loss: 492928.1562 - dense_1_loss: 549084.8750 - dense_2_loss: 484158.3750 - dense_3_loss: 515912.6562 - dense_4_loss: 516727.8438 - dense_acc: 0.0190 - dense_1_acc: 0.0090 - dense_2_acc: 0.0130 - dense_3_acc: 0.0110 - dense_4_acc: 0.0180\n",
            "Epoch 5/5\n",
            "1000/1000 [==============================] - 0s 273us/sample - loss: 3926979.9320 - dense_loss: 801219.1250 - dense_1_loss: 836913.0000 - dense_2_loss: 738785.5000 - dense_3_loss: 810489.5000 - dense_4_loss: 752392.1875 - dense_acc: 0.0130 - dense_1_acc: 0.0130 - dense_2_acc: 0.0110 - dense_3_acc: 0.0120 - dense_4_acc: 0.0080\n",
            "Model fit for 2000training samples.\n",
            "Epoch 1/5\n",
            "1000/1000 [==============================] - 0s 256us/sample - loss: 5885381.9440 - dense_loss: 1252471.8750 - dense_1_loss: 1243986.7500 - dense_2_loss: 1032291.0625 - dense_3_loss: 1106578.3750 - dense_4_loss: 1248258.2500 - dense_acc: 0.0120 - dense_1_acc: 0.0050 - dense_2_acc: 0.0050 - dense_3_acc: 0.0090 - dense_4_acc: 0.0060\n",
            "Epoch 2/5\n",
            "1000/1000 [==============================] - 0s 261us/sample - loss: 6821148.4200 - dense_loss: 1291345.3750 - dense_1_loss: 1421114.8750 - dense_2_loss: 1481806.0000 - dense_3_loss: 1366070.0000 - dense_4_loss: 1288629.5000 - dense_acc: 0.0130 - dense_1_acc: 0.0130 - dense_2_acc: 0.0140 - dense_3_acc: 0.0190 - dense_4_acc: 0.0060\n",
            "Epoch 3/5\n",
            "1000/1000 [==============================] - 0s 256us/sample - loss: 9335554.6240 - dense_loss: 1820725.0000 - dense_1_loss: 1876001.7500 - dense_2_loss: 1870532.7500 - dense_3_loss: 1895679.3750 - dense_4_loss: 1950462.6250 - dense_acc: 0.0180 - dense_1_acc: 0.0140 - dense_2_acc: 0.0080 - dense_3_acc: 0.0120 - dense_4_acc: 0.0070\n",
            "Epoch 4/5\n",
            "1000/1000 [==============================] - 0s 270us/sample - loss: 11852407.9440 - dense_loss: 2315146.7500 - dense_1_loss: 2349656.0000 - dense_2_loss: 2402686.0000 - dense_3_loss: 2290615.2500 - dense_4_loss: 2564660.0000 - dense_acc: 0.0070 - dense_1_acc: 0.0130 - dense_2_acc: 0.0080 - dense_3_acc: 0.0090 - dense_4_acc: 0.0090\n",
            "Epoch 5/5\n",
            "1000/1000 [==============================] - 0s 253us/sample - loss: 14994075.9680 - dense_loss: 3127418.2500 - dense_1_loss: 2739757.0000 - dense_2_loss: 2965935.0000 - dense_3_loss: 3050239.7500 - dense_4_loss: 3012491.7500 - dense_acc: 0.0140 - dense_1_acc: 0.0210 - dense_2_acc: 0.0140 - dense_3_acc: 0.0140 - dense_4_acc: 0.0130\n",
            "Model fit for 3000training samples.\n",
            "Epoch 1/5\n",
            "1000/1000 [==============================] - 0s 254us/sample - loss: 21875488.5440 - dense_loss: 4829684.0000 - dense_1_loss: 4381173.5000 - dense_2_loss: 4496260.5000 - dense_3_loss: 4095190.0000 - dense_4_loss: 4262515.5000 - dense_acc: 0.0110 - dense_1_acc: 0.0080 - dense_2_acc: 0.0110 - dense_3_acc: 0.0110 - dense_4_acc: 0.0070\n",
            "Epoch 2/5\n",
            "1000/1000 [==============================] - 0s 255us/sample - loss: 25927140.5760 - dense_loss: 4731980.0000 - dense_1_loss: 5365540.0000 - dense_2_loss: 5378979.5000 - dense_3_loss: 5103570.5000 - dense_4_loss: 5304812.0000 - dense_acc: 0.0100 - dense_1_acc: 0.0140 - dense_2_acc: 0.0100 - dense_3_acc: 0.0150 - dense_4_acc: 0.0130\n",
            "Epoch 3/5\n",
            "1000/1000 [==============================] - 0s 271us/sample - loss: 25782070.4640 - dense_loss: 5177033.0000 - dense_1_loss: 5185066.5000 - dense_2_loss: 5401354.0000 - dense_3_loss: 4930579.0000 - dense_4_loss: 5147928.5000 - dense_acc: 0.0090 - dense_1_acc: 0.0160 - dense_2_acc: 0.0160 - dense_3_acc: 0.0170 - dense_4_acc: 0.0140\n",
            "Epoch 4/5\n",
            "1000/1000 [==============================] - 0s 264us/sample - loss: 30542117.5040 - dense_loss: 5964098.0000 - dense_1_loss: 6508918.0000 - dense_2_loss: 5839003.0000 - dense_3_loss: 6321002.0000 - dense_4_loss: 5837866.0000 - dense_acc: 0.0090 - dense_1_acc: 0.0190 - dense_2_acc: 0.0160 - dense_3_acc: 0.0180 - dense_4_acc: 0.0120\n",
            "Epoch 5/5\n",
            "1000/1000 [==============================] - 0s 261us/sample - loss: 34836208.0640 - dense_loss: 6744948.0000 - dense_1_loss: 6496034.0000 - dense_2_loss: 6982328.0000 - dense_3_loss: 8217370.5000 - dense_4_loss: 6620756.5000 - dense_acc: 0.0140 - dense_1_acc: 0.0220 - dense_2_acc: 0.0190 - dense_3_acc: 0.0130 - dense_4_acc: 0.0210\n",
            "Model fit for 4000training samples.\n",
            "Epoch 1/5\n",
            "1000/1000 [==============================] - 0s 263us/sample - loss: 52362841.4720 - dense_loss: 9901751.0000 - dense_1_loss: 10204652.0000 - dense_2_loss: 10255258.0000 - dense_3_loss: 10847184.0000 - dense_4_loss: 11038032.0000 - dense_acc: 0.0070 - dense_1_acc: 0.0180 - dense_2_acc: 0.0150 - dense_3_acc: 0.0030 - dense_4_acc: 0.0160\n",
            "Epoch 2/5\n",
            "1000/1000 [==============================] - 0s 259us/sample - loss: 66171372.3520 - dense_loss: 12989325.0000 - dense_1_loss: 13903516.0000 - dense_2_loss: 13822240.0000 - dense_3_loss: 13075564.0000 - dense_4_loss: 12721356.0000 - dense_acc: 0.0120 - dense_1_acc: 0.0110 - dense_2_acc: 0.0170 - dense_3_acc: 0.0130 - dense_4_acc: 0.0160\n",
            "Epoch 3/5\n",
            "1000/1000 [==============================] - 0s 272us/sample - loss: 71607385.3440 - dense_loss: 16057558.0000 - dense_1_loss: 14492122.0000 - dense_2_loss: 14239727.0000 - dense_3_loss: 13339600.0000 - dense_4_loss: 13993985.0000 - dense_acc: 0.0150 - dense_1_acc: 0.0190 - dense_2_acc: 0.0190 - dense_3_acc: 0.0170 - dense_4_acc: 0.0180\n",
            "Epoch 4/5\n",
            "1000/1000 [==============================] - 0s 258us/sample - loss: 77095016.7680 - dense_loss: 17045144.0000 - dense_1_loss: 14954006.0000 - dense_2_loss: 14501126.0000 - dense_3_loss: 15622528.0000 - dense_4_loss: 15106434.0000 - dense_acc: 0.0150 - dense_1_acc: 0.0230 - dense_2_acc: 0.0110 - dense_3_acc: 0.0210 - dense_4_acc: 0.0060\n",
            "Epoch 5/5\n",
            "1000/1000 [==============================] - 0s 246us/sample - loss: 89159425.7280 - dense_loss: 19257148.0000 - dense_1_loss: 18496848.0000 - dense_2_loss: 15612184.0000 - dense_3_loss: 18954592.0000 - dense_4_loss: 16802164.0000 - dense_acc: 0.0140 - dense_1_acc: 0.0210 - dense_2_acc: 0.0190 - dense_3_acc: 0.0110 - dense_4_acc: 0.0130\n",
            "Model fit for 5000training samples.\n",
            "Epoch 1/5\n",
            "1000/1000 [==============================] - 0s 259us/sample - loss: 102804129.7280 - dense_loss: 22287226.0000 - dense_1_loss: 19992508.0000 - dense_2_loss: 19347624.0000 - dense_3_loss: 22477808.0000 - dense_4_loss: 18703582.0000 - dense_acc: 0.0170 - dense_1_acc: 0.0090 - dense_2_acc: 0.0090 - dense_3_acc: 0.0120 - dense_4_acc: 0.0110\n",
            "Epoch 2/5\n",
            "1000/1000 [==============================] - 0s 256us/sample - loss: 107288838.6560 - dense_loss: 22932958.0000 - dense_1_loss: 20541976.0000 - dense_2_loss: 22248538.0000 - dense_3_loss: 21638876.0000 - dense_4_loss: 19896144.0000 - dense_acc: 0.0180 - dense_1_acc: 0.0170 - dense_2_acc: 0.0190 - dense_3_acc: 0.0220 - dense_4_acc: 0.0130\n",
            "Epoch 3/5\n",
            "1000/1000 [==============================] - 0s 250us/sample - loss: 106821633.6000 - dense_loss: 20461068.0000 - dense_1_loss: 21532158.0000 - dense_2_loss: 22363010.0000 - dense_3_loss: 21969660.0000 - dense_4_loss: 20587690.0000 - dense_acc: 0.0210 - dense_1_acc: 0.0150 - dense_2_acc: 0.0180 - dense_3_acc: 0.0170 - dense_4_acc: 0.0130\n",
            "Epoch 4/5\n",
            "1000/1000 [==============================] - 0s 265us/sample - loss: 108965940.6080 - dense_loss: 18690446.0000 - dense_1_loss: 21743844.0000 - dense_2_loss: 23475612.0000 - dense_3_loss: 22209182.0000 - dense_4_loss: 23742830.0000 - dense_acc: 0.0180 - dense_1_acc: 0.0170 - dense_2_acc: 0.0140 - dense_3_acc: 0.0110 - dense_4_acc: 0.0150\n",
            "Epoch 5/5\n",
            "1000/1000 [==============================] - 0s 251us/sample - loss: 118882364.1600 - dense_loss: 24304298.0000 - dense_1_loss: 25104752.0000 - dense_2_loss: 20777712.0000 - dense_3_loss: 24195404.0000 - dense_4_loss: 25146372.0000 - dense_acc: 0.0190 - dense_1_acc: 0.0190 - dense_2_acc: 0.0180 - dense_3_acc: 0.0150 - dense_4_acc: 0.0180\n",
            "Model fit for 6000training samples.\n",
            "Epoch 1/5\n",
            "1000/1000 [==============================] - 0s 260us/sample - loss: 154665760.2560 - dense_loss: 33400020.0000 - dense_1_loss: 31265268.0000 - dense_2_loss: 29463460.0000 - dense_3_loss: 29094752.0000 - dense_4_loss: 32605774.0000 - dense_acc: 0.0100 - dense_1_acc: 0.0100 - dense_2_acc: 0.0120 - dense_3_acc: 0.0140 - dense_4_acc: 0.0080\n",
            "Epoch 2/5\n",
            "1000/1000 [==============================] - 0s 257us/sample - loss: 192576614.9120 - dense_loss: 37844396.0000 - dense_1_loss: 40062468.0000 - dense_2_loss: 37611184.0000 - dense_3_loss: 38289688.0000 - dense_4_loss: 40088880.0000 - dense_acc: 0.0170 - dense_1_acc: 0.0120 - dense_2_acc: 0.0140 - dense_3_acc: 0.0100 - dense_4_acc: 0.0110\n",
            "Epoch 3/5\n",
            "1000/1000 [==============================] - 0s 253us/sample - loss: 220605545.7280 - dense_loss: 49041212.0000 - dense_1_loss: 46473752.0000 - dense_2_loss: 39507480.0000 - dense_3_loss: 42136664.0000 - dense_4_loss: 44379100.0000 - dense_acc: 0.0190 - dense_1_acc: 0.0090 - dense_2_acc: 0.0150 - dense_3_acc: 0.0160 - dense_4_acc: 0.0110\n",
            "Epoch 4/5\n",
            "1000/1000 [==============================] - 0s 253us/sample - loss: 233401018.6240 - dense_loss: 48154768.0000 - dense_1_loss: 46692800.0000 - dense_2_loss: 47157864.0000 - dense_3_loss: 46465224.0000 - dense_4_loss: 44808788.0000 - dense_acc: 0.0200 - dense_1_acc: 0.0140 - dense_2_acc: 0.0140 - dense_3_acc: 0.0170 - dense_4_acc: 0.0170\n",
            "Epoch 5/5\n",
            "1000/1000 [==============================] - 0s 267us/sample - loss: 245158387.0720 - dense_loss: 50810960.0000 - dense_1_loss: 45310592.0000 - dense_2_loss: 49820680.0000 - dense_3_loss: 48855356.0000 - dense_4_loss: 49895424.0000 - dense_acc: 0.0220 - dense_1_acc: 0.0170 - dense_2_acc: 0.0170 - dense_3_acc: 0.0150 - dense_4_acc: 0.0140\n",
            "Model fit for 7000training samples.\n",
            "Epoch 1/5\n",
            "1000/1000 [==============================] - 0s 260us/sample - loss: 249594187.2640 - dense_loss: 52606936.0000 - dense_1_loss: 47496308.0000 - dense_2_loss: 49251012.0000 - dense_3_loss: 48930592.0000 - dense_4_loss: 51772628.0000 - dense_acc: 0.0210 - dense_1_acc: 0.0140 - dense_2_acc: 0.0120 - dense_3_acc: 0.0170 - dense_4_acc: 0.0120\n",
            "Epoch 2/5\n",
            "1000/1000 [==============================] - 0s 269us/sample - loss: 242307319.4240 - dense_loss: 43576532.0000 - dense_1_loss: 49080832.0000 - dense_2_loss: 50463032.0000 - dense_3_loss: 49474024.0000 - dense_4_loss: 48370368.0000 - dense_acc: 0.0200 - dense_1_acc: 0.0140 - dense_2_acc: 0.0210 - dense_3_acc: 0.0150 - dense_4_acc: 0.0170\n",
            "Epoch 3/5\n",
            "1000/1000 [==============================] - 0s 261us/sample - loss: 257637428.8640 - dense_loss: 48414188.0000 - dense_1_loss: 53966680.0000 - dense_2_loss: 50492844.0000 - dense_3_loss: 56296264.0000 - dense_4_loss: 48246080.0000 - dense_acc: 0.0160 - dense_1_acc: 0.0130 - dense_2_acc: 0.0270 - dense_3_acc: 0.0120 - dense_4_acc: 0.0120\n",
            "Epoch 4/5\n",
            "1000/1000 [==============================] - 0s 257us/sample - loss: 266078759.6800 - dense_loss: 49925588.0000 - dense_1_loss: 51950588.0000 - dense_2_loss: 52343164.0000 - dense_3_loss: 59413716.0000 - dense_4_loss: 54114204.0000 - dense_acc: 0.0190 - dense_1_acc: 0.0160 - dense_2_acc: 0.0170 - dense_3_acc: 0.0230 - dense_4_acc: 0.0200\n",
            "Epoch 5/5\n",
            "1000/1000 [==============================] - 0s 262us/sample - loss: 284568833.0240 - dense_loss: 52126856.0000 - dense_1_loss: 65927608.0000 - dense_2_loss: 53758424.0000 - dense_3_loss: 57269780.0000 - dense_4_loss: 55409264.0000 - dense_acc: 0.0160 - dense_1_acc: 0.0120 - dense_2_acc: 0.0250 - dense_3_acc: 0.0130 - dense_4_acc: 0.0220\n",
            "Model fit for 8000training samples.\n",
            "Epoch 1/5\n",
            "1000/1000 [==============================] - 0s 259us/sample - loss: 289337454.3360 - dense_loss: 53421048.0000 - dense_1_loss: 59630276.0000 - dense_2_loss: 51211184.0000 - dense_3_loss: 65007176.0000 - dense_4_loss: 59637308.0000 - dense_acc: 0.0140 - dense_1_acc: 0.0120 - dense_2_acc: 0.0160 - dense_3_acc: 0.0120 - dense_4_acc: 0.0110\n",
            "Epoch 2/5\n",
            "1000/1000 [==============================] - 0s 247us/sample - loss: 287247288.3200 - dense_loss: 53362716.0000 - dense_1_loss: 57364380.0000 - dense_2_loss: 61970828.0000 - dense_3_loss: 56450472.0000 - dense_4_loss: 57924212.0000 - dense_acc: 0.0110 - dense_1_acc: 0.0180 - dense_2_acc: 0.0150 - dense_3_acc: 0.0130 - dense_4_acc: 0.0190\n",
            "Epoch 3/5\n",
            "1000/1000 [==============================] - 0s 264us/sample - loss: 291484378.1120 - dense_loss: 59581180.0000 - dense_1_loss: 55283528.0000 - dense_2_loss: 61258416.0000 - dense_3_loss: 58770412.0000 - dense_4_loss: 57006376.0000 - dense_acc: 0.0170 - dense_1_acc: 0.0090 - dense_2_acc: 0.0060 - dense_3_acc: 0.0100 - dense_4_acc: 0.0150\n",
            "Epoch 4/5\n",
            "1000/1000 [==============================] - 0s 259us/sample - loss: 293486702.5920 - dense_loss: 62198904.0000 - dense_1_loss: 52685656.0000 - dense_2_loss: 62998612.0000 - dense_3_loss: 55020264.0000 - dense_4_loss: 60171036.0000 - dense_acc: 0.0130 - dense_1_acc: 0.0200 - dense_2_acc: 0.0090 - dense_3_acc: 0.0230 - dense_4_acc: 0.0230\n",
            "Epoch 5/5\n",
            "1000/1000 [==============================] - 0s 251us/sample - loss: 311905354.7520 - dense_loss: 73578672.0000 - dense_1_loss: 56080972.0000 - dense_2_loss: 59220416.0000 - dense_3_loss: 60828528.0000 - dense_4_loss: 63058184.0000 - dense_acc: 0.0200 - dense_1_acc: 0.0190 - dense_2_acc: 0.0160 - dense_3_acc: 0.0210 - dense_4_acc: 0.0130\n",
            "Model fit for 9000training samples.\n",
            "Epoch 1/5\n",
            "1000/1000 [==============================] - 0s 253us/sample - loss: 429047795.2000 - dense_loss: 79149456.0000 - dense_1_loss: 87696952.0000 - dense_2_loss: 83146872.0000 - dense_3_loss: 90361624.0000 - dense_4_loss: 88487272.0000 - dense_acc: 0.0070 - dense_1_acc: 0.0130 - dense_2_acc: 0.0120 - dense_3_acc: 0.0110 - dense_4_acc: 0.0110\n",
            "Epoch 2/5\n",
            "1000/1000 [==============================] - 0s 256us/sample - loss: 484863161.0880 - dense_loss: 89317832.0000 - dense_1_loss: 98677392.0000 - dense_2_loss: 98849560.0000 - dense_3_loss: 98212288.0000 - dense_4_loss: 99191936.0000 - dense_acc: 0.0120 - dense_1_acc: 0.0100 - dense_2_acc: 0.0070 - dense_3_acc: 0.0120 - dense_4_acc: 0.0140\n",
            "Epoch 3/5\n",
            "1000/1000 [==============================] - 0s 266us/sample - loss: 462248483.5840 - dense_loss: 90810968.0000 - dense_1_loss: 96947184.0000 - dense_2_loss: 92721248.0000 - dense_3_loss: 90086000.0000 - dense_4_loss: 91044752.0000 - dense_acc: 0.0150 - dense_1_acc: 0.0090 - dense_2_acc: 0.0090 - dense_3_acc: 0.0100 - dense_4_acc: 0.0140\n",
            "Epoch 4/5\n",
            "1000/1000 [==============================] - 0s 255us/sample - loss: 483834138.3680 - dense_loss: 94180112.0000 - dense_1_loss: 104560144.0000 - dense_2_loss: 90563088.0000 - dense_3_loss: 97071832.0000 - dense_4_loss: 97069912.0000 - dense_acc: 0.0170 - dense_1_acc: 0.0320 - dense_2_acc: 0.0220 - dense_3_acc: 0.0190 - dense_4_acc: 0.0210\n",
            "Epoch 5/5\n",
            "1000/1000 [==============================] - 0s 251us/sample - loss: 539419648.0000 - dense_loss: 113855224.0000 - dense_1_loss: 105777288.0000 - dense_2_loss: 98738848.0000 - dense_3_loss: 105910472.0000 - dense_4_loss: 116199248.0000 - dense_acc: 0.0120 - dense_1_acc: 0.0210 - dense_2_acc: 0.0220 - dense_3_acc: 0.0190 - dense_4_acc: 0.0190\n",
            "Model fit for 10000training samples.\n"
          ],
          "name": "stdout"
        }
      ]
    },
    {
      "cell_type": "code",
      "metadata": {
        "id": "s7sfd04t7xDd",
        "colab_type": "code",
        "outputId": "e5669ecd-16b1-4742-d661-1191e6b513d0",
        "colab": {
          "base_uri": "https://localhost:8080/",
          "height": 34
        }
      },
      "source": [
        "board = chess.Board()\n",
        "\n",
        "y = create_input(board)\n",
        "\n",
        "p = model.predict(y)\n",
        "\n",
        "interpret_pred(p)"
      ],
      "execution_count": 8,
      "outputs": [
        {
          "output_type": "execute_result",
          "data": {
            "text/plain": [
              "[('a1', 'f7'), ('h2', 'a1'), ('e5', 'a1'), ('e8', 'a1'), ('b2', 'a1')]"
            ]
          },
          "metadata": {
            "tags": []
          },
          "execution_count": 8
        }
      ]
    }
  ]
}