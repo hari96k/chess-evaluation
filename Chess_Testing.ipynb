{
  "nbformat": 4,
  "nbformat_minor": 0,
  "metadata": {
    "colab": {
      "name": "Chess Testing",
      "version": "0.3.2",
      "provenance": [],
      "collapsed_sections": []
    },
    "kernelspec": {
      "name": "python3",
      "display_name": "Python 3"
    },
    "accelerator": "GPU"
  },
  "cells": [
    {
      "cell_type": "code",
      "metadata": {
        "id": "uJDpqALgR5C7",
        "colab_type": "code",
        "outputId": "822fddda-fe71-420b-e30f-a61866d3b733",
        "colab": {
          "base_uri": "https://localhost:8080/",
          "height": 51
        }
      },
      "source": [
        "import numpy as np\n",
        "import tensorflow as tf\n",
        "import chess\n",
        "import pandas as pd\n",
        "import io\n",
        "\n",
        "from tensorflow.keras.models import Sequential, Model\n",
        "from tensorflow.keras.layers import Dense, Conv2D, Flatten, Input, Lambda\n",
        "from keras import backend as K\n",
        "from tensorflow import keras\n",
        "\n",
        "from google.colab import drive\n",
        "drive.mount('/content/drive')"
      ],
      "execution_count": 1,
      "outputs": [
        {
          "output_type": "stream",
          "text": [
            "Drive already mounted at /content/drive; to attempt to forcibly remount, call drive.mount(\"/content/drive\", force_remount=True).\n"
          ],
          "name": "stdout"
        },
        {
          "output_type": "stream",
          "text": [
            "Using TensorFlow backend.\n"
          ],
          "name": "stderr"
        }
      ]
    },
    {
      "cell_type": "markdown",
      "metadata": {
        "id": "18xEksspmreA",
        "colab_type": "text"
      },
      "source": [
        "Helper Functions~~~"
      ]
    },
    {
      "cell_type": "code",
      "metadata": {
        "id": "wRhEQ_I3TXhk",
        "colab_type": "code",
        "colab": {}
      },
      "source": [
        "NUM_OUTPUTS = 5\n",
        "\n",
        "\n",
        "def get_mat(board, piece, color):\n",
        "  squareSet = board.pieces(piece, color)\n",
        "  return get_bin_mat(squareSet);\n",
        "\n",
        "def get_bin_mat(squareSet):\n",
        "  mat = np.zeros((8,8))\n",
        "  for x in range(0, 8):\n",
        "    for y in range(0, 8):\n",
        "        if(y*8 + x in squareSet):\n",
        "          # The 7 - is used to flip the board representation\n",
        "          mat[7 - y, x] = 1\n",
        "            \n",
        "  return mat\n",
        "\n",
        "\n",
        "def get_dual_bin_mat(piece):\n",
        "  whiteSquareSet = board.pieces(piece, chess.WHITE)\n",
        "  blackSquareSet = board.pieces(piece, chess.BLACK)\n",
        "  mat = np.zeros((8,8))\n",
        "  for x in range(0, 8):\n",
        "    for y in range(0, 8):\n",
        "        if(y*8 + x in whiteSquareSet):\n",
        "          # The 7 - is used to flip the board representation\n",
        "          mat[7 - y, x] = 1\n",
        "        elif(y*8 + x in blackSquareSet):\n",
        "          mat[7 - y, x] = -1\n",
        "            \n",
        "  return mat\n",
        "\n",
        "\n",
        "def interpret_pred(p):\n",
        "  num_outputs = len(p)\n",
        "  \n",
        "  moves = []\n",
        "  for out in p:\n",
        "    # There's an extra list wrapping for some reason\n",
        "    out = out[0]\n",
        "    start = np.argmax(out[:64])\n",
        "    end = np.argmax(out[64:])\n",
        "       \n",
        "    moves.append((chess.SQUARE_NAMES[start],\n",
        "                  chess.SQUARE_NAMES[end]))\n",
        "    \n",
        "  return moves\n",
        "\n",
        "def create_input(board):\n",
        "  mat = np.array(([get_mat(board, i, chess.WHITE) for i in range(1,7)] + [get_mat(board, i, chess.BLACK) for i in range(1,7)]))\n",
        "  y = mat.reshape((-1, 12, 8, 8))\n",
        "  return y\n",
        "\n",
        "def create_output(moves):\n",
        "  output = []\n",
        "  for i in range(0, NUM_OUTPUTS):\n",
        "    startPos = moves[i][0]\n",
        "    endPos = moves[i][1]\n",
        "    \n",
        "    mat = np.zeros(128)\n",
        "    \n",
        "    mat[startPos] = 1\n",
        "    mat[64 + endPos] = 1\n",
        "        \n",
        "    output.append(mat)\n",
        "  \n",
        "  return output"
      ],
      "execution_count": 0,
      "outputs": []
    },
    {
      "cell_type": "code",
      "metadata": {
        "id": "ETcs9qacuGlD",
        "colab_type": "code",
        "outputId": "9e29bb92-9a4f-4f62-d1b0-41f5c22b04f1",
        "colab": {
          "base_uri": "https://localhost:8080/",
          "height": 34
        }
      },
      "source": [
        "np.zeros(128).shape"
      ],
      "execution_count": 3,
      "outputs": [
        {
          "output_type": "execute_result",
          "data": {
            "text/plain": [
              "(128,)"
            ]
          },
          "metadata": {
            "tags": []
          },
          "execution_count": 3
        }
      ]
    },
    {
      "cell_type": "markdown",
      "metadata": {
        "id": "uQ7P_PFH8WdK",
        "colab_type": "text"
      },
      "source": [
        "Input data:\n",
        "\n",
        "  (6 pieces + 1 for meta state ) * 2 players\n",
        "  \n",
        "  8 rows\n",
        "  \n",
        "  8 columns\n",
        "  \n",
        " => 8 * 8 * 12 = 768\n",
        " \n",
        " \n",
        " Output data:\n",
        " \n",
        " - Assume predicting five moves\n",
        " - initial location, and new location\n",
        " \n",
        " \n",
        "Array of objects/tuples\n",
        "[{initial location, new location},...]\n",
        " \n",
        " \n",
        " => 5 * 2 * 64 = 640\n",
        "  "
      ]
    },
    {
      "cell_type": "code",
      "metadata": {
        "id": "xh4Q_A627s3r",
        "colab_type": "code",
        "outputId": "89840603-15c7-40b5-f7d2-ab6251ff0768",
        "colab": {
          "base_uri": "https://localhost:8080/",
          "height": 493
        }
      },
      "source": [
        "inp = Input((12,8,8))\n",
        "\n",
        "\n",
        "x = Conv2D(64, kernel_size=3, activation='relu', input_shape=(12,8,8))(inp)\n",
        "\n",
        "x = Conv2D(64, kernel_size=3, activation='relu', input_shape=(12,8,8))(x)\n",
        "\n",
        "x = Conv2D(32, kernel_size=3, activation='relu', input_shape=(12,8,8))(x)\n",
        "\n",
        "\n",
        "x = Flatten()(x)\n",
        "\n",
        "\n",
        "outputs = []\n",
        "\n",
        "for n in range(NUM_OUTPUTS):\n",
        "  outputs.append(Dense(128, activation='softmax')(x))\n",
        "\n",
        "model = Model(inp, outputs)\n",
        "model.compile(optimizer='adam', loss='categorical_crossentropy', metrics=['accuracy']) \n",
        "\n",
        "model.summary()"
      ],
      "execution_count": 9,
      "outputs": [
        {
          "output_type": "stream",
          "text": [
            "Model: \"model_1\"\n",
            "__________________________________________________________________________________________________\n",
            "Layer (type)                    Output Shape         Param #     Connected to                     \n",
            "==================================================================================================\n",
            "input_2 (InputLayer)            [(None, 12, 8, 8)]   0                                            \n",
            "__________________________________________________________________________________________________\n",
            "conv2d_3 (Conv2D)               (None, 10, 6, 64)    4672        input_2[0][0]                    \n",
            "__________________________________________________________________________________________________\n",
            "conv2d_4 (Conv2D)               (None, 8, 4, 64)     36928       conv2d_3[0][0]                   \n",
            "__________________________________________________________________________________________________\n",
            "conv2d_5 (Conv2D)               (None, 6, 2, 32)     18464       conv2d_4[0][0]                   \n",
            "__________________________________________________________________________________________________\n",
            "flatten_1 (Flatten)             (None, 384)          0           conv2d_5[0][0]                   \n",
            "__________________________________________________________________________________________________\n",
            "dense_5 (Dense)                 (None, 128)          49280       flatten_1[0][0]                  \n",
            "__________________________________________________________________________________________________\n",
            "dense_6 (Dense)                 (None, 128)          49280       flatten_1[0][0]                  \n",
            "__________________________________________________________________________________________________\n",
            "dense_7 (Dense)                 (None, 128)          49280       flatten_1[0][0]                  \n",
            "__________________________________________________________________________________________________\n",
            "dense_8 (Dense)                 (None, 128)          49280       flatten_1[0][0]                  \n",
            "__________________________________________________________________________________________________\n",
            "dense_9 (Dense)                 (None, 128)          49280       flatten_1[0][0]                  \n",
            "==================================================================================================\n",
            "Total params: 306,464\n",
            "Trainable params: 306,464\n",
            "Non-trainable params: 0\n",
            "__________________________________________________________________________________________________\n"
          ],
          "name": "stdout"
        }
      ]
    },
    {
      "cell_type": "code",
      "metadata": {
        "id": "Xyl3iUZBFybO",
        "colab_type": "code",
        "outputId": "e1df1c49-238f-43af-8cfb-f52698f10b9b",
        "colab": {
          "base_uri": "https://localhost:8080/",
          "height": 34
        }
      },
      "source": [
        "board = chess.Board()\n",
        "\n",
        "y = create_input(board)\n",
        "\n",
        "p = model.predict(y)\n",
        "\n",
        "interpret_pred(p)"
      ],
      "execution_count": 5,
      "outputs": [
        {
          "output_type": "execute_result",
          "data": {
            "text/plain": [
              "[('d6', 'g5'), ('b5', 'a7'), ('a1', 'h4'), ('b5', 'f7'), ('h8', 'g8')]"
            ]
          },
          "metadata": {
            "tags": []
          },
          "execution_count": 5
        }
      ]
    },
    {
      "cell_type": "code",
      "metadata": {
        "id": "clSTqUeBdIEC",
        "colab_type": "code",
        "colab": {
          "base_uri": "https://localhost:8080/",
          "height": 204
        },
        "outputId": "54bc774a-ec23-4adb-a0fd-53610b90231d"
      },
      "source": [
        "df=pd.read_csv('drive/My Drive/Chess/train.csv')\n",
        "\n",
        "test_train = df.head()\n",
        "test_train"
      ],
      "execution_count": 6,
      "outputs": [
        {
          "output_type": "execute_result",
          "data": {
            "text/html": [
              "<div>\n",
              "<style scoped>\n",
              "    .dataframe tbody tr th:only-of-type {\n",
              "        vertical-align: middle;\n",
              "    }\n",
              "\n",
              "    .dataframe tbody tr th {\n",
              "        vertical-align: top;\n",
              "    }\n",
              "\n",
              "    .dataframe thead th {\n",
              "        text-align: right;\n",
              "    }\n",
              "</style>\n",
              "<table border=\"1\" class=\"dataframe\">\n",
              "  <thead>\n",
              "    <tr style=\"text-align: right;\">\n",
              "      <th></th>\n",
              "      <th>Position</th>\n",
              "      <th>Moves</th>\n",
              "    </tr>\n",
              "  </thead>\n",
              "  <tbody>\n",
              "    <tr>\n",
              "      <th>0</th>\n",
              "      <td>rnbqkbnr/ppppppp1/7p/8/4P3/2N5/PPPP1PPP/R1BQKB...</td>\n",
              "      <td>[(62, 45), (52, 36), (49, 41), (51, 43), (50, ...</td>\n",
              "    </tr>\n",
              "    <tr>\n",
              "      <th>1</th>\n",
              "      <td>rnbqkbnr/pp1pppp1/7p/2p5/4P3/2N5/PPPP1PPP/R1BQ...</td>\n",
              "      <td>[(18, 1), (18, 33), (5, 33), (13, 29), (0, 1)]</td>\n",
              "    </tr>\n",
              "    <tr>\n",
              "      <th>2</th>\n",
              "      <td>rnbqkbnr/pp1pppp1/7p/2p5/4P3/8/PPPP1PPP/RNBQKB...</td>\n",
              "      <td>[(54, 38), (53, 45), (57, 42), (52, 36), (59, ...</td>\n",
              "    </tr>\n",
              "    <tr>\n",
              "      <th>3</th>\n",
              "      <td>rnbqkbnr/pp1ppp2/7p/2p3p1/4P3/8/PPPP1PPP/RNBQK...</td>\n",
              "      <td>[(6, 23), (10, 26), (3, 12), (10, 18), (28, 36)]</td>\n",
              "    </tr>\n",
              "    <tr>\n",
              "      <th>4</th>\n",
              "      <td>rnbqkbnr/pp1ppp2/7p/2p3p1/4P3/3B4/PPPP1PPP/RNB...</td>\n",
              "      <td>[(48, 32), (57, 42), (59, 32), (34, 26), (59, ...</td>\n",
              "    </tr>\n",
              "  </tbody>\n",
              "</table>\n",
              "</div>"
            ],
            "text/plain": [
              "                                            Position                                              Moves\n",
              "0  rnbqkbnr/ppppppp1/7p/8/4P3/2N5/PPPP1PPP/R1BQKB...  [(62, 45), (52, 36), (49, 41), (51, 43), (50, ...\n",
              "1  rnbqkbnr/pp1pppp1/7p/2p5/4P3/2N5/PPPP1PPP/R1BQ...     [(18, 1), (18, 33), (5, 33), (13, 29), (0, 1)]\n",
              "2  rnbqkbnr/pp1pppp1/7p/2p5/4P3/8/PPPP1PPP/RNBQKB...  [(54, 38), (53, 45), (57, 42), (52, 36), (59, ...\n",
              "3  rnbqkbnr/pp1ppp2/7p/2p3p1/4P3/8/PPPP1PPP/RNBQK...   [(6, 23), (10, 26), (3, 12), (10, 18), (28, 36)]\n",
              "4  rnbqkbnr/pp1ppp2/7p/2p3p1/4P3/3B4/PPPP1PPP/RNB...  [(48, 32), (57, 42), (59, 32), (34, 26), (59, ..."
            ]
          },
          "metadata": {
            "tags": []
          },
          "execution_count": 6
        }
      ]
    },
    {
      "cell_type": "code",
      "metadata": {
        "id": "i30II7Oqj63U",
        "colab_type": "code",
        "colab": {}
      },
      "source": [
        "inputs = []\n",
        "outputs = []\n",
        "\n",
        "for i in range(len(test_train)):\n",
        "  pos = test_train.iloc[i].Position\n",
        "  moves = eval(test_train.iloc[i].Moves)\n",
        "  \n",
        "  board.set_fen(pos)\n",
        "  if i > 0:\n",
        "    inputs = np.append(inputs, create_input(board), axis=0)\n",
        "  else:\n",
        "    inputs = create_input(board)\n",
        "  outputs.append(create_output(moves))\n"
      ],
      "execution_count": 0,
      "outputs": []
    },
    {
      "cell_type": "code",
      "metadata": {
        "id": "Os81bDRSsADU",
        "colab_type": "code",
        "outputId": "2327488d-5306-49c9-c235-ae9ea54eb518",
        "colab": {
          "base_uri": "https://localhost:8080/",
          "height": 71
        }
      },
      "source": [
        "model.fit(inputs, outputs)"
      ],
      "execution_count": 8,
      "outputs": [
        {
          "output_type": "stream",
          "text": [
            "\r5/5 [==============================] - 0s 48ms/sample - loss: 48.5043 - dense_loss: 9.6973 - dense_1_loss: 9.6651 - dense_2_loss: 9.7240 - dense_3_loss: 9.6857 - dense_4_loss: 9.7322 - dense_acc: 0.0000e+00 - dense_1_acc: 0.0000e+00 - dense_2_acc: 0.0000e+00 - dense_3_acc: 0.0000e+00 - dense_4_acc: 0.0000e+00\n"
          ],
          "name": "stdout"
        },
        {
          "output_type": "execute_result",
          "data": {
            "text/plain": [
              "<tensorflow.python.keras.callbacks.History at 0x7ff631859cc0>"
            ]
          },
          "metadata": {
            "tags": []
          },
          "execution_count": 8
        }
      ]
    }
  ]
}